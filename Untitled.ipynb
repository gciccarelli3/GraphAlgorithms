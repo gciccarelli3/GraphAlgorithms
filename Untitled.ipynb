{
 "cells": [
  {
   "cell_type": "code",
   "execution_count": 13,
   "metadata": {
    "collapsed": true
   },
   "outputs": [],
   "source": [
    "import numpy as np"
   ]
  },
  {
   "cell_type": "code",
   "execution_count": 2,
   "metadata": {
    "collapsed": true
   },
   "outputs": [],
   "source": [
    "u = None"
   ]
  },
  {
   "cell_type": "code",
   "execution_count": 17,
   "metadata": {
    "collapsed": false
   },
   "outputs": [],
   "source": [
    "u = np.random.rand(10)"
   ]
  },
  {
   "cell_type": "code",
   "execution_count": 20,
   "metadata": {
    "collapsed": false
   },
   "outputs": [
    {
     "data": {
      "text/plain": [
       "4.5057166224430718"
      ]
     },
     "execution_count": 20,
     "metadata": {},
     "output_type": "execute_result"
    }
   ],
   "source": [
    "u.dot(u)\n"
   ]
  },
  {
   "cell_type": "code",
   "execution_count": 24,
   "metadata": {
    "collapsed": false
   },
   "outputs": [
    {
     "data": {
      "text/plain": [
       "'foo1'"
      ]
     },
     "execution_count": 24,
     "metadata": {},
     "output_type": "execute_result"
    }
   ],
   "source": [
    "str('foo%d'%1.1)"
   ]
  },
  {
   "cell_type": "code",
   "execution_count": 52,
   "metadata": {
    "collapsed": false
   },
   "outputs": [],
   "source": [
    "a = np.arange(10)"
   ]
  },
  {
   "cell_type": "code",
   "execution_count": 87,
   "metadata": {
    "collapsed": false
   },
   "outputs": [],
   "source": [
    "v = np.ones([10,1])"
   ]
  },
  {
   "cell_type": "code",
   "execution_count": 91,
   "metadata": {
    "collapsed": false
   },
   "outputs": [
    {
     "data": {
      "text/plain": [
       "1.0"
      ]
     },
     "execution_count": 91,
     "metadata": {},
     "output_type": "execute_result"
    }
   ],
   "source": [
    "float(v[3,0])"
   ]
  },
  {
   "cell_type": "code",
   "execution_count": 86,
   "metadata": {
    "collapsed": false
   },
   "outputs": [
    {
     "data": {
      "text/plain": [
       "(3, 2)"
      ]
     },
     "execution_count": 86,
     "metadata": {},
     "output_type": "execute_result"
    }
   ],
   "source": [
    "x.shape"
   ]
  },
  {
   "cell_type": "code",
   "execution_count": 85,
   "metadata": {
    "collapsed": false
   },
   "outputs": [],
   "source": [
    "x = x.T\n"
   ]
  },
  {
   "cell_type": "code",
   "execution_count": 26,
   "metadata": {
    "collapsed": false
   },
   "outputs": [
    {
     "name": "stdout",
     "output_type": "stream",
     "text": [
      "1\n",
      "3\n"
     ]
    }
   ],
   "source": [
    "def foo(dt = 1,**kwargs):\n",
    "    print dt\n",
    "    print kwargs['da']\n",
    "foo(da = 3)"
   ]
  },
  {
   "cell_type": "code",
   "execution_count": 1,
   "metadata": {
    "collapsed": false
   },
   "outputs": [],
   "source": [
    "a = {'r':1,'t':2}\n",
    "a[a.get('r')] = 2"
   ]
  },
  {
   "cell_type": "code",
   "execution_count": 7,
   "metadata": {
    "collapsed": false
   },
   "outputs": [
    {
     "name": "stdout",
     "output_type": "stream",
     "text": [
      "True\n"
     ]
    }
   ],
   "source": [
    "def foo(**kwargs):\n",
    "    if 'a' in kwargs:\n",
    "        print isinstance(kwargs['a'],int)\n",
    "foo(a=2)\n",
    "    "
   ]
  },
  {
   "cell_type": "code",
   "execution_count": 12,
   "metadata": {
    "collapsed": false
   },
   "outputs": [],
   "source": [
    "x = np.zeros([2,3])"
   ]
  },
  {
   "cell_type": "code",
   "execution_count": 17,
   "metadata": {
    "collapsed": false
   },
   "outputs": [
    {
     "data": {
      "text/plain": [
       "2"
      ]
     },
     "execution_count": 17,
     "metadata": {},
     "output_type": "execute_result"
    }
   ],
   "source": [
    "x.shape[0]"
   ]
  },
  {
   "cell_type": "code",
   "execution_count": 34,
   "metadata": {
    "collapsed": false
   },
   "outputs": [],
   "source": [
    "a = 2*np.ones([10,1])"
   ]
  },
  {
   "cell_type": "code",
   "execution_count": 35,
   "metadata": {
    "collapsed": false
   },
   "outputs": [],
   "source": [
    "a = np.multiply(a,a)"
   ]
  },
  {
   "cell_type": "code",
   "execution_count": 38,
   "metadata": {
    "collapsed": false
   },
   "outputs": [],
   "source": [
    "a = np.ones([2,3])"
   ]
  },
  {
   "cell_type": "code",
   "execution_count": 41,
   "metadata": {
    "collapsed": false
   },
   "outputs": [],
   "source": [
    "a = np.asmatrix(a)"
   ]
  },
  {
   "cell_type": "code",
   "execution_count": 47,
   "metadata": {
    "collapsed": false
   },
   "outputs": [
    {
     "data": {
      "text/plain": [
       "matrix([[ 3.,  3.],\n",
       "        [ 3.,  3.]])"
      ]
     },
     "execution_count": 47,
     "metadata": {},
     "output_type": "execute_result"
    }
   ],
   "source": [
    "a*a.transpose()"
   ]
  },
  {
   "cell_type": "code",
   "execution_count": 48,
   "metadata": {
    "collapsed": true
   },
   "outputs": [],
   "source": [
    "a = a*a.transpose()"
   ]
  },
  {
   "cell_type": "code",
   "execution_count": 57,
   "metadata": {
    "collapsed": false
   },
   "outputs": [
    {
     "data": {
      "text/plain": [
       "matrix([[ 3.,  3.],\n",
       "        [ 3.,  3.]])"
      ]
     },
     "execution_count": 57,
     "metadata": {},
     "output_type": "execute_result"
    }
   ],
   "source": [
    "b = np.array([1,2])\n",
    "b.shape = (2,1)\n",
    "a"
   ]
  },
  {
   "cell_type": "code",
   "execution_count": 56,
   "metadata": {
    "collapsed": false
   },
   "outputs": [
    {
     "data": {
      "text/plain": [
       "matrix([[ 9.],\n",
       "        [ 9.]])"
      ]
     },
     "execution_count": 56,
     "metadata": {},
     "output_type": "execute_result"
    }
   ],
   "source": [
    "c = a*b\n",
    "c"
   ]
  },
  {
   "cell_type": "code",
   "execution_count": 65,
   "metadata": {
    "collapsed": false
   },
   "outputs": [
    {
     "data": {
      "text/plain": [
       "array([ 0.,  0.,  0.,  0.,  0.])"
      ]
     },
     "execution_count": 65,
     "metadata": {},
     "output_type": "execute_result"
    }
   ],
   "source": [
    "c = np.zeros([5,1])\n",
    "c.flatten()"
   ]
  },
  {
   "cell_type": "code",
   "execution_count": 73,
   "metadata": {
    "collapsed": false
   },
   "outputs": [
    {
     "data": {
      "text/plain": [
       "0.0"
      ]
     },
     "execution_count": 73,
     "metadata": {},
     "output_type": "execute_result"
    }
   ],
   "source": [
    "(c+c).max()"
   ]
  },
  {
   "cell_type": "code",
   "execution_count": 4,
   "metadata": {
    "collapsed": false
   },
   "outputs": [
    {
     "name": "stdout",
     "output_type": "stream",
     "text": [
      "dfoo\n",
      "efoo\n"
     ]
    }
   ],
   "source": [
    "#demo for polymorphism\n",
    "\n",
    "class basefoo:\n",
    "    def __init__(self):\n",
    "        self.x = 'basefoo'\n",
    "        self.y = 'some base crap'\n",
    "    def basefoomethod(self):\n",
    "        print self.x\n",
    "\n",
    "        \n",
    "class dfoo(basefoo):\n",
    "    def __init__(self):\n",
    "        self.x = 'dfoo'\n",
    "\n",
    "        \n",
    "class efoo(basefoo):\n",
    "    def __init__(self):\n",
    "        self.x = 'efoo'\n",
    "\n",
    "a = dfoo()\n",
    "b = efoo()\n",
    "\n",
    "def foo(inpupt):\n",
    "    inpupt.basefoomethod()\n",
    "\n",
    "foo(a)\n",
    "foo(b)"
   ]
  },
  {
   "cell_type": "code",
   "execution_count": 16,
   "metadata": {
    "collapsed": false
   },
   "outputs": [
    {
     "data": {
      "text/plain": [
       "<bound method basefoo.basefoomethod1 of <__main__.basefoo instance at 0x104f8d7a0>>"
      ]
     },
     "execution_count": 16,
     "metadata": {},
     "output_type": "execute_result"
    }
   ],
   "source": [
    "#demo for namescopeing\n",
    "\n",
    "class basefoo:\n",
    "    def __init__(self):\n",
    "        self.x = 'basefoo'\n",
    "        self.y = 'some base crap'\n",
    "    def basefoomethod1(self):\n",
    "        return self.x\n",
    "    \n",
    "    \n",
    "    def basefoomethod2(self,x=None):\n",
    "        if x != None:\n",
    "            x = \"foofoo\"\n",
    "        self.basefoomethod1()\n",
    "        print \"success\"\n",
    "\n",
    "        \n",
    "class dfoo(basefoo):\n",
    "    def __init__(self):\n",
    "        self.x = 'dfoo'\n",
    "\n",
    "        \n",
    "class efoo(basefoo):\n",
    "    def __init__(self):\n",
    "        self.x = 'efoo'\n",
    "        \n",
    "a = basefoo()\n",
    "a.basefoomethod1\n",
    "\n"
   ]
  },
  {
   "cell_type": "code",
   "execution_count": 29,
   "metadata": {
    "collapsed": true
   },
   "outputs": [],
   "source": [
    "import numpy as np\n",
    "import scipy.sparse.linalg as spla"
   ]
  },
  {
   "cell_type": "code",
   "execution_count": 27,
   "metadata": {
    "collapsed": false
   },
   "outputs": [
    {
     "name": "stdout",
     "output_type": "stream",
     "text": [
      "haha\n",
      "<bound method foo.f1 of <__main__.foo instance at 0x104fcf170>>\n",
      "<bound method foo.f1 of <__main__.foo instance at 0x104fcf170>>\n",
      "<function f1 at 0x104fce668>\n"
     ]
    }
   ],
   "source": [
    "def f1(x):\n",
    "    print x\n",
    "\n",
    "class foo:\n",
    "    def f1(self,x):\n",
    "        f1(x) # to invoke the inner f1, need to call self.f1  %Explicit better than Implicit\n",
    "        print self.f1\n",
    "        \n",
    "a = foo()\n",
    "a.f1(\"haha\")\n",
    "print a.f1\n",
    "print f1"
   ]
  },
  {
   "cell_type": "code",
   "execution_count": 40,
   "metadata": {
    "collapsed": false
   },
   "outputs": [
    {
     "data": {
      "text/plain": [
       "array([[-0.44077728,  0.17728563, -0.32836543],\n",
       "       [ 0.38361161,  0.29170819, -0.28056029],\n",
       "       [-0.43741866,  0.09810872, -0.29612262],\n",
       "       [ 0.40415856, -0.27886513, -0.3922649 ],\n",
       "       [-0.28372256, -0.41937766, -0.26798982],\n",
       "       [-0.23798849,  0.35122436, -0.39961426],\n",
       "       [ 0.29961726,  0.50544047, -0.29248031],\n",
       "       [ 0.27386445, -0.19258026, -0.30753089],\n",
       "       [-0.0118767 , -0.27125235, -0.30625305],\n",
       "       [ 0.04275497, -0.36154367, -0.25783853]])"
      ]
     },
     "execution_count": 40,
     "metadata": {},
     "output_type": "execute_result"
    }
   ],
   "source": [
    "test = np.random.rand(10,10)\n",
    "test = np.asmatrix(test)\n",
    "test = test*test.T\n",
    "res = spla.eigsh(test, k = 3)\n",
    "res[1]"
   ]
  },
  {
   "cell_type": "code",
   "execution_count": 64,
   "metadata": {
    "collapsed": false
   },
   "outputs": [
    {
     "data": {
      "text/plain": [
       "array([[ 0.43024038,  0.88698291],\n",
       "       [ 0.61253182,  0.17793577],\n",
       "       [ 0.64179479,  0.90273705]])"
      ]
     },
     "execution_count": 64,
     "metadata": {},
     "output_type": "execute_result"
    }
   ],
   "source": [
    "a = np.random.rand(3,2)\n",
    "a"
   ]
  },
  {
   "cell_type": "code",
   "execution_count": 69,
   "metadata": {
    "collapsed": false
   },
   "outputs": [
    {
     "data": {
      "text/plain": [
       "array([[ 0.49176341],\n",
       "       [ 0.81977635],\n",
       "       [ 0.52866426],\n",
       "       [ 0.75870974],\n",
       "       [ 0.96409567],\n",
       "       [ 0.9912595 ],\n",
       "       [ 0.16750237],\n",
       "       [ 0.64038822],\n",
       "       [ 0.80911841],\n",
       "       [ 0.52378101]])"
      ]
     },
     "execution_count": 69,
     "metadata": {},
     "output_type": "execute_result"
    }
   ],
   "source": [
    "v = np.random.rand(10,1)\n",
    "v"
   ]
  },
  {
   "cell_type": "code",
   "execution_count": 2,
   "metadata": {
    "collapsed": false
   },
   "outputs": [],
   "source": []
  },
  {
   "cell_type": "code",
   "execution_count": 12,
   "metadata": {
    "collapsed": false
   },
   "outputs": [
    {
     "data": {
      "image/png": "[encoded data removed]",
      "text/plain": [
       "<matplotlib.figure.Figure at 0x106178650>"
      ]
     },
     "metadata": {},
     "output_type": "display_data"
    }
   ],
   "source": [
    "%matplotlib inline\n",
    "import matplotlib\n",
    "import matplotlib.pyplot as plt\n",
    "plt.plot([1,2,3,4],[2,3,4.5,5])\n",
    "plt.axis([1,3.3,2,4])\n",
    "plt.show()\n",
    "\n"
   ]
  }
 ],
 "metadata": {
  "kernelspec": {
   "display_name": "Python 2",
   "language": "python",
   "name": "python2"
  },
  "language_info": {
   "codemirror_mode": {
    "name": "ipython",
    "version": 2
   },
   "file_extension": ".py",
   "mimetype": "text/x-python",
   "name": "python",
   "nbconvert_exporter": "python",
   "pygments_lexer": "ipython2",
   "version": "2.7.9"
  }
 },
 "nbformat": 4,
 "nbformat_minor": 0
}
