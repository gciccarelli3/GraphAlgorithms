{
 "cells": [
  {
   "cell_type": "code",
   "execution_count": 131,
   "metadata": {
    "collapsed": false
   },
   "outputs": [],
   "source": [
    "import numpy as np\n",
    "from scipy import ndimage\n",
    "from scipy import misc\n",
    "%matplotlib inline \n",
    "import matplotlib.pyplot as plt\n",
    "img = np.float32(misc.imresize(misc.imread('data/Images/lena.png'),(256,256)))./255 \n",
    "img = misc.i"
   ]
  },
  {
   "cell_type": "code",
   "execution_count": 425,
   "metadata": {
    "collapsed": false
   },
   "outputs": [],
   "source": [
    "from util import nystrom\n"
   ]
  },
  {
   "cell_type": "code",
   "execution_count": 106,
   "metadata": {
    "collapsed": false
   },
   "outputs": [],
   "source": [
    "# Preamble  here \n",
    "import util\n",
    "reload(util)\n",
    "import numpy as np \n",
    "import sklearn\n",
    "from sklearn import datasets\n",
    "from scipy.sparse.linalg import eigsh\n",
    "from numpy.random import permutation\n",
    "from scipy import ndimage\n",
    "from scipy import misc\n",
    "% matplotlib inline\n",
    "import matplotlib.pyplot as plt\n",
    "img = np.float32(misc.imread('data/twocows.png'))"
   ]
  },
  {
   "cell_type": "code",
   "execution_count": 115,
   "metadata": {
    "collapsed": false
   },
   "outputs": [],
   "source": [
    "#initialization\n",
    "import graph_cluster as gc\n",
    "reload (gc)\n",
    "params = {'eps':1, 'eta':2} # parameters for the classifier\n",
    "gl_clf = gc.LaplacianClustering(scheme_type = 'GL_fidelity',  params = params)"
   ]
  },
  {
   "cell_type": "code",
   "execution_count": 116,
   "metadata": {
    "collapsed": false
   },
   "outputs": [],
   "source": [
    "gl_clf.load_raw_data(util.imageblocks(img,width = 2))"
   ]
  },
  {
   "cell_type": "code",
   "execution_count": 117,
   "metadata": {
    "collapsed": false
   },
   "outputs": [],
   "source": [
    "gl_clf.set_graph_parameters(Neig = 100,Eig_solver = 'nystrom')"
   ]
  },
  {
   "cell_type": "code",
   "execution_count": 118,
   "metadata": {
    "collapsed": false
   },
   "outputs": [
    {
     "name": "stdout",
     "output_type": "stream",
     "text": [
      "360.526266667\n"
     ]
    }
   ],
   "source": [
    "gl_clf.build_Laplacian()"
   ]
  },
  {
   "cell_type": "code",
   "execution_count": 127,
   "metadata": {
    "collapsed": false
   },
   "outputs": [],
   "source": [
    "v = gl_clf.laplacian_matrix_['V']\n",
    "e = gl_clf.laplacian_matrix_['E']"
   ]
  },
  {
   "cell_type": "code",
   "execution_count": 124,
   "metadata": {
    "collapsed": false
   },
   "outputs": [
    {
     "data": {
      "text/plain": [
       "<matplotlib.image.AxesImage at 0x10c2e3c50>"
      ]
     },
     "execution_count": 124,
     "metadata": {},
     "output_type": "execute_result"
    },
    {
     "data": {
      "image/png": "[encoded data removed]",
      "text/plain": [
       "<matplotlib.figure.Figure at 0x10c2b96d0>"
      ]
     },
     "metadata": {},
     "output_type": "display_data"
    }
   ],
   "source": [
    "plt.imshow(v[:,5].reshape(img.shape[0],img.shape[1]))"
   ]
  },
  {
   "cell_type": "code",
   "execution_count": 128,
   "metadata": {
    "collapsed": false
   },
   "outputs": [
    {
     "data": {
      "text/plain": [
       "[<matplotlib.lines.Line2D at 0x108ce6150>]"
      ]
     },
     "execution_count": 128,
     "metadata": {},
     "output_type": "execute_result"
    },
    {
     "data": {
      "image/png": "[encoded data removed]",
      "text/plain": [
       "<matplotlib.figure.Figure at 0x10d44a250>"
      ]
     },
     "metadata": {},
     "output_type": "display_data"
    }
   ],
   "source": [
    "plt.plot(e)"
   ]
  },
  {
   "cell_type": "code",
   "execution_count": 397,
   "metadata": {
    "collapsed": false
   },
   "outputs": [
    {
     "name": "stdout",
     "output_type": "stream",
     "text": [
      "1\n"
     ]
    }
   ],
   "source": [
    "import scipy.sparse as spa\n",
    "import numpy as np\n",
    "from scipy.sparse.linalg import eigsh\n",
    "from numpy.random import permutation\n",
    "from scipy.spatial.distance import cdist\n",
    "from scipy.linalg import pinv\n",
    "from scipy.linalg import sqrtm  \n",
    "from scipy.linalg import eigh\n",
    "raw_data = np.zeros([25,9,3])\n",
    "for i in range(25):\n",
    "    for j in range(9):\n",
    "        raw_data[i,j,0] = i+j\n",
    "        raw_data[i,j,1] = 2*(i+j)**2\n",
    "        raw_data[i,j,2] = i*j\n",
    "    \n",
    "num_nystrom  = 20\n",
    "kernel_flag = True\n",
    "sigma = 100\n",
    "\n",
    "if len(raw_data.shape) == 2:\n",
    "    raw_data = raw_data[:,np.newaxis]\n",
    "width = int((np.sqrt(raw_data.shape[1])-1)/2)\n",
    "print width\n",
    "n_channels = raw_data.shape[2]\n",
    "raw_data = flatten_23(raw_data)\n",
    "if kernel_flag: # spatial kernel involved\n",
    "    kernel = make_kernel(width = width, n_channels = n_channels)\n",
    "    scale_sqrt = np.sqrt(kernel).reshape(1,len(kernel))\n",
    "num_rows = raw_data.shape[0]\n",
    "#index = permutation(num_rows)\n",
    "index = np.arange(num_rows)\n",
    "sample_data = raw_data[index[:num_nystrom]]\n",
    "other_data = raw_data[index[num_nystrom:]]\n",
    "\n",
    "\n",
    "# calculating A\n",
    "sigma = sigma*sigma \n",
    "if kernel_flag:\n",
    "    A = np.exp(-cdist(sample_data*scale_sqrt,sample_data*scale_sqrt,'sqeuclidean')/sigma).astype(np.float32)\n",
    "else: \n",
    "    A = np.exp(-cdist(sample_data,sample_data,'sqeuclidean')/sigma).astype(np.float32)\n",
    "    #A.flat[::A.shape[0]+1] = 0\n",
    "\n",
    "# calculating B\n",
    "other_points = num_rows - num_nystrom\n",
    "if kernel_flag:\n",
    "    B = np.exp(-cdist(sample_data*scale_sqrt,other_data*scale_sqrt,'sqeuclidean')/sigma).astype(np.float32)\n",
    "else: \n",
    "    B = np.exp(-cdist(sample_data,other_data,'sqeuclidean')/sigma).astype(np.float32)\n",
    "\n",
    "  \n",
    "    \n",
    "# normalize A and B\n",
    "pinv_A = pinv(A)\n",
    "B_T = B.transpose()\n",
    "d1 = np.sum(A,axis = 1) + np.sum(B,axis = 1)\n",
    "d2 = np.sum(B_T,axis = 1) + np.dot(B_T, np.dot(pinv_A, np.sum(B,axis = 1)))\n",
    "dhat = np.sqrt(1./np.concatenate((d1,d2),axis = 0))\n",
    "A = A*(np.dot(dhat[0:num_nystrom,np.newaxis],dhat[0:num_nystrom,np.newaxis].transpose()))\n",
    "B1 = np.dot(dhat[0:num_nystrom,np.newaxis], dhat[num_nystrom:num_nystrom+other_points,np.newaxis].transpose())\n",
    "B = B*B1\n",
    "\n",
    "\n",
    "# do orthogonalization and eigen-decomposition\n",
    "B_T = B.transpose()\n",
    "Asi = sqrtm(pinv(A))\n",
    "BBT = np.dot(B,B_T)\n",
    "W = np.concatenate((A,B_T), axis = 0)\n",
    "R = A+ np.dot(np.dot(Asi,BBT),Asi)\n",
    "R = (R+R.transpose())/2.\n",
    "L, U = eigh(R)\n",
    "ind = np.argsort(L)[::-1]\n",
    "U = U[:,ind]\n",
    "L = L[ind]\n",
    "W = np.dot(W,Asi)\n",
    "V = np.dot(W, U*1./np.sqrt(L))\n",
    "foo = V.copy()\n",
    "V[index,:] = foo\n",
    "V = np.real(V)\n",
    "L = 1-L"
   ]
  },
  {
   "cell_type": "code",
   "execution_count": 400,
   "metadata": {
    "collapsed": false
   },
   "outputs": [
    {
     "data": {
      "text/plain": [
       "array([  1.69919819e-01,   1.82242006e-01,   1.90810412e-01,\n",
       "         1.93058684e-01,   1.87438548e-01,   1.74152985e-01,\n",
       "         1.54734969e-01,   1.30586803e-01,   1.01943240e-01,\n",
       "         6.81378543e-02,   2.84001790e-02,  -1.76138971e-02,\n",
       "        -6.96244314e-02,  -1.26670480e-01,  -1.87042356e-01,\n",
       "        -2.48189658e-01,  -3.06676030e-01,  -3.58236581e-01,\n",
       "        -3.97955358e-01,  -4.20661360e-01,  -2.50729918e-01,\n",
       "        -5.98177649e-02,  -4.84568439e-03,  -1.16945535e-04,\n",
       "        -7.39346774e-07], dtype=float32)"
      ]
     },
     "execution_count": 400,
     "metadata": {},
     "output_type": "execute_result"
    }
   ],
   "source": [
    "V[:,1]\n"
   ]
  },
  {
   "cell_type": "code",
   "execution_count": null,
   "metadata": {
    "collapsed": true
   },
   "outputs": [],
   "source": []
  },
  {
   "cell_type": "code",
   "execution_count": null,
   "metadata": {
    "collapsed": true
   },
   "outputs": [],
   "source": []
  },
  {
   "cell_type": "code",
   "execution_count": null,
   "metadata": {
    "collapsed": true
   },
   "outputs": [],
   "source": []
  },
  {
   "cell_type": "code",
   "execution_count": null,
   "metadata": {
    "collapsed": true
   },
   "outputs": [],
   "source": []
  },
  {
   "cell_type": "code",
   "execution_count": 299,
   "metadata": {
    "collapsed": false
   },
   "outputs": [
    {
     "data": {
      "text/plain": [
       "array([[ 0.12794226,  0.27247411,  0.08412802,  0.56026274,  0.7672982 ,\n",
       "         0.17618314,  0.88540327,  0.74555895,  0.1828349 ],\n",
       "       [ 0.82577102,  0.71412198,  0.82452278,  0.92257679,  0.49820353,\n",
       "         0.84301896,  0.8047701 ,  0.92667331,  0.42358662]])"
      ]
     },
     "execution_count": 299,
     "metadata": {},
     "output_type": "execute_result"
    }
   ],
   "source": [
    "flatten_23(v)"
   ]
  },
  {
   "cell_type": "code",
   "execution_count": 249,
   "metadata": {
    "collapsed": false
   },
   "outputs": [],
   "source": [
    "def make_kernel(width = None, n_channels = None):\n",
    "    kernel = np.zeros([2*width+1,2*width+1])\n",
    "    for d in range(1,width+1):\n",
    "        value= 1. / (2*d+1.)^2 \n",
    "        for i in range(-d, d+1):\n",
    "            for j in range(-d, d+1): \n",
    "                kernel[width -i,width - j ] = kernel[ width - i,width - j ] + value\n",
    "    kernel = kernel/width\n",
    "    kernel = kernel.flatten()\n",
    "    kernel = np.array([kernel, ]*n_channels)\n",
    "    kernel = kernel.flatten()\n",
    "    return kernel"
   ]
  },
  {
   "cell_type": "code",
   "execution_count": 251,
   "metadata": {
    "collapsed": false
   },
   "outputs": [],
   "source": [
    "def make_kernel(width = None, n_channels = None):\n",
    "    kernel = np.zeros([2*width+1,2*width+1])\n",
    "    for d in range(1,width+1):\n",
    "        value= 1. / ((2*d+1.)*(2*d+1.))\n",
    "        for i in range(-d, d+1):\n",
    "            for j in range(-d, d+1): \n",
    "                kernel[width -i,width - j ] = kernel[ width - i,width - j ] + value\n",
    "    kernel = kernel/width\n",
    "    kernel = kernel.flatten()\n",
    "    kernel = np.array([kernel, ]*n_channels)\n",
    "    kernel = kernel.flatten()\n",
    "    return kernel"
   ]
  },
  {
   "cell_type": "code",
   "execution_count": 252,
   "metadata": {
    "collapsed": false
   },
   "outputs": [],
   "source": [
    "k = make_kernel(2,1)"
   ]
  },
  {
   "cell_type": "code",
   "execution_count": 253,
   "metadata": {
    "collapsed": false
   },
   "outputs": [
    {
     "data": {
      "text/plain": [
       "array([ 0.02      ,  0.02      ,  0.02      ,  0.02      ,  0.02      ,\n",
       "        0.02      ,  0.07555556,  0.07555556,  0.07555556,  0.02      ,\n",
       "        0.02      ,  0.07555556,  0.07555556,  0.07555556,  0.02      ,\n",
       "        0.02      ,  0.07555556,  0.07555556,  0.07555556,  0.02      ,\n",
       "        0.02      ,  0.02      ,  0.02      ,  0.02      ,  0.02      ])"
      ]
     },
     "execution_count": 253,
     "metadata": {},
     "output_type": "execute_result"
    }
   ],
   "source": [
    "k"
   ]
  },
  {
   "cell_type": "code",
   "execution_count": 224,
   "metadata": {
    "collapsed": false
   },
   "outputs": [
    {
     "data": {
      "text/plain": [
       "array([[ 1.,  1.,  1.,  1.,  1.],\n",
       "       [ 1.,  2.,  2.,  2.,  1.],\n",
       "       [ 1.,  2.,  2.,  2.,  1.],\n",
       "       [ 1.,  2.,  2.,  2.,  1.],\n",
       "       [ 1.,  1.,  1.,  1.,  1.]])"
      ]
     },
     "execution_count": 224,
     "metadata": {},
     "output_type": "execute_result"
    }
   ],
   "source": [
    "k[:25].reshape([5,5])"
   ]
  },
  {
   "cell_type": "code",
   "execution_count": 70,
   "metadata": {
    "collapsed": false
   },
   "outputs": [
    {
     "data": {
      "text/plain": [
       "array([[ 1.83749359,  0.31517782,  0.57730257, -1.10501861, -0.89021151,\n",
       "         0.30982067],\n",
       "       [-1.14147446, -0.42307415,  0.07050621,  0.70867843, -1.33972705,\n",
       "         1.28989635],\n",
       "       [ 1.17967366, -0.55043807, -0.70357047, -0.66262449, -0.71236815,\n",
       "        -2.64986493],\n",
       "       [-0.73828102, -0.85496308, -0.46720098,  0.28434462,  2.12362476,\n",
       "        -0.69400875]])"
      ]
     },
     "execution_count": 70,
     "metadata": {},
     "output_type": "execute_result"
    }
   ],
   "source": [
    "foo[:,:,1]"
   ]
  },
  {
   "cell_type": "code",
   "execution_count": 68,
   "metadata": {
    "collapsed": false
   },
   "outputs": [
    {
     "data": {
      "text/plain": [
       "array([ 0.97095326,  1.83749359])"
      ]
     },
     "execution_count": 68,
     "metadata": {},
     "output_type": "execute_result"
    }
   ],
   "source": [
    "np.lib.stride_tricks.as_strided(foo, shape=(2,), strides=[foo.itemsize*1])"
   ]
  },
  {
   "cell_type": "code",
   "execution_count": 63,
   "metadata": {
    "collapsed": false
   },
   "outputs": [
    {
     "data": {
      "text/plain": [
       "8"
      ]
     },
     "execution_count": 63,
     "metadata": {},
     "output_type": "execute_result"
    }
   ],
   "source": [
    "foo.itemsize"
   ]
  },
  {
   "cell_type": "code",
   "execution_count": 255,
   "metadata": {
    "collapsed": false
   },
   "outputs": [
    {
     "data": {
      "text/plain": [
       "array([ 8,  2,  0,  0,  2,  8, 18,  4,  1,  0,  0,  1,  4,  9,  0,  0,  0,\n",
       "        0,  0,  0,  0,  0,  0,  0,  0,  0,  0,  0,  4,  1,  0,  0,  1,  4,\n",
       "        9,  8,  2,  0,  0,  2,  8, 18, 12,  3,  0,  0,  3, 12, 27])"
      ]
     },
     "execution_count": 255,
     "metadata": {},
     "output_type": "execute_result"
    }
   ],
   "source": []
  }
 ],
 "metadata": {
  "kernelspec": {
   "display_name": "Python 2",
   "language": "python",
   "name": "python2"
  },
  "language_info": {
   "codemirror_mode": {
    "name": "ipython",
    "version": 2
   },
   "file_extension": ".py",
   "mimetype": "text/x-python",
   "name": "python",
   "nbconvert_exporter": "python",
   "pygments_lexer": "ipython2",
   "version": "2.7.10"
  }
 },
 "nbformat": 4,
 "nbformat_minor": 0
}
