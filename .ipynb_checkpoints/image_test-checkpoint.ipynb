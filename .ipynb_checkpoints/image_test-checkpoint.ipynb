{
 "cells": [
  {
   "cell_type": "code",
   "execution_count": 65,
   "metadata": {
    "collapsed": false
   },
   "outputs": [],
   "source": [
    "# Preamble  here, add paths and import relevant modules\n",
    "import os\n",
    "import sys\n",
    "sys.path.append('/'.join(os.getcwd().split('/')[:-1]))\n",
    "import util\n",
    "reload(util)\n",
    "import numpy as np \n",
    "import sklearn\n",
    "from sklearn import datasets\n",
    "from scipy.sparse.linalg import eigsh\n",
    "from numpy.random import permutation\n",
    "% matplotlib inline\n",
    "import matplotlib.pyplot as plt\n",
    "x_train,y_train = sklearn.datasets.make_moons(n_samples=800, noise=0.02+.03*(1+1),shuffle = False)"
   ]
  },
  {
   "cell_type": "code",
   "execution_count": 70,
   "metadata": {
    "collapsed": false
   },
   "outputs": [],
   "source": [
    "#initialization\n",
    "import graph_cluster as gc\n",
    "reload (gc)\n",
    "params = {'gamma':.2} # parameters for the classifier\n",
    "gl_clf = gc.LaplacianClustering(scheme_type = 'MBO_modularity',  params = params, n_class = 2)\n",
    "mid = x_train.shape[0]/2\n",
    "ground_truth = np.concatenate((np.ones(mid),-np.ones(mid)),axis = 0)\n",
    "gl_clf.load_raw_data(raw_data = x_train, ground_truth = ground_truth)\n",
    "gl_clf.generate_initial_value() #random initial condition generated\n",
    "gl_clf.set_graph_parameters(affinity = 'z-p',neighbor_type = '', n_neighbors = 30 ,gamma = 1., Neig = 100,Laplacian_type = 'u')"
   ]
  },
  {
   "cell_type": "code",
   "execution_count": 67,
   "metadata": {
    "collapsed": false
   },
   "outputs": [
    {
     "data": {
      "image/png": "[encoded data removed]",
      "text/plain": [
       "<matplotlib.figure.Figure at 0x10b1ee2d0>"
      ]
     },
     "metadata": {},
     "output_type": "display_data"
    }
   ],
   "source": [
    "reload(util)\n",
    "reload(gc)\n",
    "gl_clf.build_Laplacian()\n",
    "V = gl_clf.laplacian_matrix_['V']\n",
    "mid = V.shape[0]/2\n",
    "V2 = V[:,1]\n",
    "V3 = V[:,2]\n",
    "gl_clf.set_parameters(scheme_type= 'MBO_modularity', iter_params = {'gamma':.00, 'dt':.1})\n",
    "# Testing supervised learning\n",
    "plt.figure(4)\n",
    "plt.rcParams['figure.figsize'] = (12, 5)\n",
    "#classification results\n",
    "for i in range(1):\n",
    "    plt.subplot(1,3,i+1)\n",
    "    plt.scatter(V2,V3,s = 3, color = mid*'r'+mid*'b')   \n",
    "    plt.axis('off')\n",
    "plt.show()"
   ]
  },
  {
   "cell_type": "code",
   "execution_count": 97,
   "metadata": {
    "collapsed": false,
    "scrolled": true
   },
   "outputs": [
    {
     "name": "stdout",
     "output_type": "stream",
     "text": [
      "0.2 10\n",
      "11\n"
     ]
    },
    {
     "name": "stderr",
     "output_type": "stream",
     "text": [
      "util/misc.py:162: VisibleDeprecationWarning: boolean index did not match indexed array along dimension 0; dimension is 800 but corresponding boolean dimension is 10000\n",
      "  format_labels[labels == tag] = np.argmax(np.bincount(ground_truth[labels == tag].astype(int)))\n"
     ]
    },
    {
     "ename": "IndexError",
     "evalue": "index 800 is out of bounds for axis 1 with size 800",
     "output_type": "error",
     "traceback": [
      "\u001b[0;31m---------------------------------------------------------------------------\u001b[0m",
      "\u001b[0;31mIndexError\u001b[0m                                Traceback (most recent call last)",
      "\u001b[0;32m<ipython-input-97-3ef7e1128713>\u001b[0m in \u001b[0;36m<module>\u001b[0;34m()\u001b[0m\n\u001b[1;32m     20\u001b[0m     \u001b[0mplt\u001b[0m\u001b[0;34m.\u001b[0m\u001b[0msubplot\u001b[0m\u001b[0;34m(\u001b[0m\u001b[0;36m1\u001b[0m\u001b[0;34m,\u001b[0m\u001b[0;36m3\u001b[0m\u001b[0;34m,\u001b[0m\u001b[0mi\u001b[0m\u001b[0;34m+\u001b[0m\u001b[0;36m1\u001b[0m\u001b[0;34m)\u001b[0m\u001b[0;34m\u001b[0m\u001b[0m\n\u001b[1;32m     21\u001b[0m     \u001b[0mplt\u001b[0m\u001b[0;34m.\u001b[0m\u001b[0mscatter\u001b[0m\u001b[0;34m(\u001b[0m\u001b[0mx_train\u001b[0m\u001b[0;34m[\u001b[0m\u001b[0;34m:\u001b[0m\u001b[0;34m,\u001b[0m\u001b[0;36m0\u001b[0m\u001b[0;34m]\u001b[0m\u001b[0;34m,\u001b[0m\u001b[0mx_train\u001b[0m\u001b[0;34m[\u001b[0m\u001b[0;34m:\u001b[0m\u001b[0;34m,\u001b[0m\u001b[0;36m1\u001b[0m\u001b[0;34m]\u001b[0m\u001b[0;34m,\u001b[0m\u001b[0ms\u001b[0m \u001b[0;34m=\u001b[0m \u001b[0;36m3\u001b[0m\u001b[0;34m,\u001b[0m \u001b[0mcolor\u001b[0m \u001b[0;34m=\u001b[0m \u001b[0mgen_colors\u001b[0m\u001b[0;34m(\u001b[0m\u001b[0mgl_clf\u001b[0m\u001b[0;34m.\u001b[0m\u001b[0mlabels_\u001b[0m\u001b[0;34m)\u001b[0m\u001b[0;34m)\u001b[0m\u001b[0;34m\u001b[0m\u001b[0m\n\u001b[0;32m---> 22\u001b[0;31m     \u001b[0mplt\u001b[0m\u001b[0;34m.\u001b[0m\u001b[0mtitle\u001b[0m\u001b[0;34m(\u001b[0m\u001b[0;34m'Err = {r}'\u001b[0m\u001b[0;34m.\u001b[0m\u001b[0mformat\u001b[0m\u001b[0;34m(\u001b[0m\u001b[0mperc\u001b[0m \u001b[0;34m=\u001b[0m \u001b[0;34m(\u001b[0m\u001b[0mi\u001b[0m\u001b[0;34m+\u001b[0m\u001b[0;36m1\u001b[0m\u001b[0;34m)\u001b[0m\u001b[0;34m*\u001b[0m\u001b[0;36m.03\u001b[0m\u001b[0;34m,\u001b[0m \u001b[0mr\u001b[0m \u001b[0;34m=\u001b[0m \u001b[0mgl_clf\u001b[0m\u001b[0;34m.\u001b[0m\u001b[0mcompute_score\u001b[0m\u001b[0;34m(\u001b[0m\u001b[0;34m)\u001b[0m\u001b[0;34m)\u001b[0m\u001b[0;34m)\u001b[0m\u001b[0;34m\u001b[0m\u001b[0m\n\u001b[0m\u001b[1;32m     23\u001b[0m     \u001b[0mplt\u001b[0m\u001b[0;34m.\u001b[0m\u001b[0maxis\u001b[0m\u001b[0;34m(\u001b[0m\u001b[0;34m'off'\u001b[0m\u001b[0;34m)\u001b[0m\u001b[0;34m\u001b[0m\u001b[0m\n\u001b[1;32m     24\u001b[0m \u001b[0mplt\u001b[0m\u001b[0;34m.\u001b[0m\u001b[0mshow\u001b[0m\u001b[0;34m(\u001b[0m\u001b[0;34m)\u001b[0m\u001b[0;34m\u001b[0m\u001b[0m\n",
      "\u001b[0;32m/Users/xiyangluo/Home/Projects/PythonProjects/GraphAlgorithms/graph_cluster/lap_cluster.pyc\u001b[0m in \u001b[0;36mcompute_score\u001b[0;34m(self)\u001b[0m\n\u001b[1;32m    560\u001b[0m \u001b[0;34m\u001b[0m\u001b[0m\n\u001b[1;32m    561\u001b[0m     \u001b[0;32mdef\u001b[0m \u001b[0mcompute_score\u001b[0m\u001b[0;34m(\u001b[0m\u001b[0mself\u001b[0m\u001b[0;34m)\u001b[0m\u001b[0;34m:\u001b[0m\u001b[0;34m\u001b[0m\u001b[0m\n\u001b[0;32m--> 562\u001b[0;31m         \u001b[0mself\u001b[0m\u001b[0;34m.\u001b[0m\u001b[0mscore_\u001b[0m \u001b[0;34m=\u001b[0m \u001b[0mutil\u001b[0m\u001b[0;34m.\u001b[0m\u001b[0mcompute_error_rate\u001b[0m\u001b[0;34m(\u001b[0m\u001b[0mground_truth\u001b[0m \u001b[0;34m=\u001b[0m \u001b[0mself\u001b[0m\u001b[0;34m.\u001b[0m\u001b[0mground_truth\u001b[0m\u001b[0;34m,\u001b[0m \u001b[0mlabels\u001b[0m \u001b[0;34m=\u001b[0m \u001b[0mself\u001b[0m\u001b[0;34m.\u001b[0m\u001b[0mlabels_\u001b[0m\u001b[0;34m)\u001b[0m\u001b[0;34m\u001b[0m\u001b[0m\n\u001b[0m\u001b[1;32m    563\u001b[0m         \u001b[0;32mreturn\u001b[0m \u001b[0mself\u001b[0m\u001b[0;34m.\u001b[0m\u001b[0mscore_\u001b[0m\u001b[0;34m\u001b[0m\u001b[0m\n\u001b[1;32m    564\u001b[0m \u001b[0;34m\u001b[0m\u001b[0m\n",
      "\u001b[0;32m/Users/xiyangluo/Home/Projects/PythonProjects/GraphAlgorithms/util/misc.pyc\u001b[0m in \u001b[0;36mcompute_error_rate\u001b[0;34m(labels, ground_truth)\u001b[0m\n\u001b[1;32m    160\u001b[0m     \u001b[0mn_class\u001b[0m \u001b[0;34m=\u001b[0m \u001b[0mmax\u001b[0m\u001b[0;34m(\u001b[0m\u001b[0mlabels\u001b[0m\u001b[0;34m)\u001b[0m\u001b[0;34m\u001b[0m\u001b[0m\n\u001b[1;32m    161\u001b[0m     \u001b[0;32mfor\u001b[0m \u001b[0mtag\u001b[0m \u001b[0;32min\u001b[0m \u001b[0mrange\u001b[0m\u001b[0;34m(\u001b[0m\u001b[0mn_class\u001b[0m\u001b[0;34m+\u001b[0m\u001b[0;36m1\u001b[0m\u001b[0;34m)\u001b[0m\u001b[0;34m:\u001b[0m\u001b[0;34m\u001b[0m\u001b[0m\n\u001b[0;32m--> 162\u001b[0;31m        \u001b[0mformat_labels\u001b[0m\u001b[0;34m[\u001b[0m\u001b[0mlabels\u001b[0m \u001b[0;34m==\u001b[0m \u001b[0mtag\u001b[0m\u001b[0;34m]\u001b[0m \u001b[0;34m=\u001b[0m \u001b[0mnp\u001b[0m\u001b[0;34m.\u001b[0m\u001b[0margmax\u001b[0m\u001b[0;34m(\u001b[0m\u001b[0mnp\u001b[0m\u001b[0;34m.\u001b[0m\u001b[0mbincount\u001b[0m\u001b[0;34m(\u001b[0m\u001b[0mground_truth\u001b[0m\u001b[0;34m[\u001b[0m\u001b[0mlabels\u001b[0m \u001b[0;34m==\u001b[0m \u001b[0mtag\u001b[0m\u001b[0;34m]\u001b[0m\u001b[0;34m.\u001b[0m\u001b[0mastype\u001b[0m\u001b[0;34m(\u001b[0m\u001b[0mint\u001b[0m\u001b[0;34m)\u001b[0m\u001b[0;34m)\u001b[0m\u001b[0;34m)\u001b[0m\u001b[0;34m\u001b[0m\u001b[0m\n\u001b[0m\u001b[1;32m    163\u001b[0m     \u001b[0;32mreturn\u001b[0m \u001b[0mfloat\u001b[0m\u001b[0;34m(\u001b[0m\u001b[0mlen\u001b[0m\u001b[0;34m(\u001b[0m\u001b[0mground_truth\u001b[0m\u001b[0;34m[\u001b[0m\u001b[0mformat_labels\u001b[0m\u001b[0;34m!=\u001b[0m \u001b[0mground_truth\u001b[0m\u001b[0;34m]\u001b[0m\u001b[0;34m)\u001b[0m\u001b[0;34m)\u001b[0m\u001b[0;34m/\u001b[0m\u001b[0mfloat\u001b[0m\u001b[0;34m(\u001b[0m\u001b[0mlen\u001b[0m\u001b[0;34m(\u001b[0m\u001b[0mground_truth\u001b[0m\u001b[0;34m)\u001b[0m\u001b[0;34m)\u001b[0m\u001b[0;34m\u001b[0m\u001b[0m\n\u001b[1;32m    164\u001b[0m \u001b[0;34m\u001b[0m\u001b[0m\n",
      "\u001b[0;31mIndexError\u001b[0m: index 800 is out of bounds for axis 1 with size 800"
     ]
    },
    {
     "data": {
      "image/png": "[encoded data removed]",
      "text/plain": [
       "<matplotlib.figure.Figure at 0x10ac3e790>"
      ]
     },
     "metadata": {},
     "output_type": "display_data"
    }
   ],
   "source": [
    "# Testing supervised learning\n",
    "reload(gc)\n",
    "plt.figure(4)\n",
    "gl_clf.set_parameters(scheme_type= 'MBO_modularity', iter_params = {'gamma':.2, 'dt':10})\n",
    "plt.rcParams['figure.figsize'] = (12, 5)\n",
    "\n",
    "def gen_colors(u):\n",
    "    color = \"\"\n",
    "    for l in u:\n",
    "        if l>0:\n",
    "            color += 'r'\n",
    "        else:\n",
    "            color += 'b'\n",
    "    return color\n",
    "#classification results\n",
    "gl_clf.build_Laplacian()\n",
    "for i in range(3):\n",
    "    gl_clf.generate_initial_value()\n",
    "    gl_clf.fit_predict()\n",
    "    plt.subplot(1,3,i+1)\n",
    "    plt.scatter(x_train[:,0],x_train[:,1],s = 3, color = gen_colors(gl_clf.labels_))\n",
    "    plt.title('Err = {r}'.format(perc = (i+1)*.03, r = gl_clf.compute_score()))    \n",
    "    plt.axis('off')\n",
    "plt.show()"
   ]
  },
  {
   "cell_type": "code",
   "execution_count": null,
   "metadata": {
    "collapsed": false
   },
   "outputs": [],
   "source": [
    "a = np.random.randn(10000,2)\n",
    "gl_clf.load_raw_data(raw_data = a)\n",
    "gl_clf.set_graph_parameters(affinity = 'rbf',neighbor_type = 'distance', n_neighbors = 30 ,gamma = 1., Neig = 100,Laplacian_type = 'u')\n",
    "gl_clf.build_Laplacian()"
   ]
  },
  {
   "cell_type": "code",
   "execution_count": 98,
   "metadata": {
    "collapsed": false
   },
   "outputs": [
    {
     "data": {
      "text/plain": [
       "[<matplotlib.lines.Line2D at 0x10aa43090>]"
      ]
     },
     "execution_count": 98,
     "metadata": {},
     "output_type": "execute_result"
    },
    {
     "data": {
      "image/png": "[encoded data removed]",
      "text/plain": [
       "<matplotlib.figure.Figure at 0x109fd1210>"
      ]
     },
     "metadata": {},
     "output_type": "display_data"
    }
   ],
   "source": [
    "plt.plot(gl_clf.laplacian_matrix_['E'])"
   ]
  },
  {
   "cell_type": "code",
   "execution_count": 144,
   "metadata": {
    "collapsed": false
   },
   "outputs": [
    {
     "data": {
      "text/plain": [
       "array([[0, 0, 0, 0, 0],\n",
       "       [0, 1, 0, 0, 0],\n",
       "       [0, 0, 2, 0, 0],\n",
       "       [0, 0, 0, 3, 0],\n",
       "       [0, 0, 0, 0, 4]])"
      ]
     },
     "execution_count": 144,
     "metadata": {},
     "output_type": "execute_result"
    }
   ],
   "source": [
    "from sklearn.metrics.pairwise import pairwise_kernels\n",
    "pairwise_kernels()"
   ]
  },
  {
   "cell_type": "code",
   "execution_count": 150,
   "metadata": {
    "collapsed": false
   },
   "outputs": [
    {
     "ename": "TypeError",
     "evalue": "only length-1 arrays can be converted to Python scalars",
     "output_type": "error",
     "traceback": [
      "\u001b[0;31m---------------------------------------------------------------------------\u001b[0m",
      "\u001b[0;31mTypeError\u001b[0m                                 Traceback (most recent call last)",
      "\u001b[0;32m<ipython-input-150-c6d243e3b4e1>\u001b[0m in \u001b[0;36m<module>\u001b[0;34m()\u001b[0m\n\u001b[0;32m----> 1\u001b[0;31m \u001b[0mnp\u001b[0m\u001b[0;34m.\u001b[0m\u001b[0mmax\u001b[0m\u001b[0;34m(\u001b[0m\u001b[0mx\u001b[0m\u001b[0;34m,\u001b[0m\u001b[0mx\u001b[0m\u001b[0;34m+\u001b[0m\u001b[0;36m1\u001b[0m\u001b[0;34m)\u001b[0m\u001b[0;34m\u001b[0m\u001b[0m\n\u001b[0m",
      "\u001b[0;32m/Users/xiyangluo/anaconda/lib/python2.7/site-packages/numpy/core/fromnumeric.pyc\u001b[0m in \u001b[0;36mamax\u001b[0;34m(a, axis, out, keepdims)\u001b[0m\n\u001b[1;32m   2257\u001b[0m     \u001b[0;32melse\u001b[0m\u001b[0;34m:\u001b[0m\u001b[0;34m\u001b[0m\u001b[0m\n\u001b[1;32m   2258\u001b[0m         return _methods._amax(a, axis=axis,\n\u001b[0;32m-> 2259\u001b[0;31m                               out=out, keepdims=keepdims)\n\u001b[0m\u001b[1;32m   2260\u001b[0m \u001b[0;34m\u001b[0m\u001b[0m\n\u001b[1;32m   2261\u001b[0m \u001b[0;34m\u001b[0m\u001b[0m\n",
      "\u001b[0;32m/Users/xiyangluo/anaconda/lib/python2.7/site-packages/numpy/core/_methods.pyc\u001b[0m in \u001b[0;36m_amax\u001b[0;34m(a, axis, out, keepdims)\u001b[0m\n\u001b[1;32m     24\u001b[0m \u001b[0;31m# small reductions\u001b[0m\u001b[0;34m\u001b[0m\u001b[0;34m\u001b[0m\u001b[0m\n\u001b[1;32m     25\u001b[0m \u001b[0;32mdef\u001b[0m \u001b[0m_amax\u001b[0m\u001b[0;34m(\u001b[0m\u001b[0ma\u001b[0m\u001b[0;34m,\u001b[0m \u001b[0maxis\u001b[0m\u001b[0;34m=\u001b[0m\u001b[0mNone\u001b[0m\u001b[0;34m,\u001b[0m \u001b[0mout\u001b[0m\u001b[0;34m=\u001b[0m\u001b[0mNone\u001b[0m\u001b[0;34m,\u001b[0m \u001b[0mkeepdims\u001b[0m\u001b[0;34m=\u001b[0m\u001b[0mFalse\u001b[0m\u001b[0;34m)\u001b[0m\u001b[0;34m:\u001b[0m\u001b[0;34m\u001b[0m\u001b[0m\n\u001b[0;32m---> 26\u001b[0;31m     \u001b[0;32mreturn\u001b[0m \u001b[0mumr_maximum\u001b[0m\u001b[0;34m(\u001b[0m\u001b[0ma\u001b[0m\u001b[0;34m,\u001b[0m \u001b[0maxis\u001b[0m\u001b[0;34m,\u001b[0m \u001b[0mNone\u001b[0m\u001b[0;34m,\u001b[0m \u001b[0mout\u001b[0m\u001b[0;34m,\u001b[0m \u001b[0mkeepdims\u001b[0m\u001b[0;34m)\u001b[0m\u001b[0;34m\u001b[0m\u001b[0m\n\u001b[0m\u001b[1;32m     27\u001b[0m \u001b[0;34m\u001b[0m\u001b[0m\n\u001b[1;32m     28\u001b[0m \u001b[0;32mdef\u001b[0m \u001b[0m_amin\u001b[0m\u001b[0;34m(\u001b[0m\u001b[0ma\u001b[0m\u001b[0;34m,\u001b[0m \u001b[0maxis\u001b[0m\u001b[0;34m=\u001b[0m\u001b[0mNone\u001b[0m\u001b[0;34m,\u001b[0m \u001b[0mout\u001b[0m\u001b[0;34m=\u001b[0m\u001b[0mNone\u001b[0m\u001b[0;34m,\u001b[0m \u001b[0mkeepdims\u001b[0m\u001b[0;34m=\u001b[0m\u001b[0mFalse\u001b[0m\u001b[0;34m)\u001b[0m\u001b[0;34m:\u001b[0m\u001b[0;34m\u001b[0m\u001b[0m\n",
      "\u001b[0;31mTypeError\u001b[0m: only length-1 arrays can be converted to Python scalars"
     ]
    }
   ],
   "source": [
    "np.max(x,x+1)"
   ]
  },
  {
   "cell_type": "code",
   "execution_count": 132,
   "metadata": {
    "collapsed": false
   },
   "outputs": [],
   "source": [
    "params = {'gamma':.1} # parameters for the classifier\n",
    "gl_clf = gc.LaplacianClustering(scheme_type = 'MBO_modularity',  params = params,iter_params = {'gamma':.1, 'dt':1}, n_class = 2)\n",
    "gl_clf.load_raw_data(raw_data = x_train, ground_truth = y_train)\n",
    "gl_clf.generate_initial_value() #random initial condition generated\n",
    "# set graph parameters\n",
    "gl_clf.set_graph_parameters(affinity = 'rbf', gamma = 30., Neig = 80)"
   ]
  },
  {
   "cell_type": "code",
   "execution_count": 133,
   "metadata": {
    "collapsed": false
   },
   "outputs": [],
   "source": [
    "reload(util)\n",
    "reload(gc)\n",
    "gl_clf.fit_predict()"
   ]
  },
  {
   "cell_type": "code",
   "execution_count": 138,
   "metadata": {
    "collapsed": false
   },
   "outputs": [],
   "source": [
    "a = np.ones([2,3])"
   ]
  },
  {
   "cell_type": "code",
   "execution_count": 143,
   "metadata": {
    "collapsed": false
   },
   "outputs": [],
   "source": [
    "x = np.diag(np.arange(5))"
   ]
  },
  {
   "cell_type": "code",
   "execution_count": 397,
   "metadata": {
    "collapsed": false
   },
   "outputs": [
    {
     "name": "stdout",
     "output_type": "stream",
     "text": [
      "1\n"
     ]
    }
   ],
   "source": [
    "import scipy.sparse as spa\n",
    "import numpy as np\n",
    "from scipy.sparse.linalg import eigsh\n",
    "from numpy.random import permutation\n",
    "from scipy.spatial.distance import cdist\n",
    "from scipy.linalg import pinv\n",
    "from scipy.linalg import sqrtm  \n",
    "from scipy.linalg import eigh\n",
    "raw_data = np.zeros([25,9,3])\n",
    "for i in range(25):\n",
    "    for j in range(9):\n",
    "        raw_data[i,j,0] = i+j\n",
    "        raw_data[i,j,1] = 2*(i+j)**2\n",
    "        raw_data[i,j,2] = i*j\n",
    "    \n",
    "num_nystrom  = 20\n",
    "kernel_flag = True\n",
    "sigma = 100\n",
    "\n",
    "if len(raw_data.shape) == 2:\n",
    "    raw_data = raw_data[:,np.newaxis]\n",
    "width = int((np.sqrt(raw_data.shape[1])-1)/2)\n",
    "print width\n",
    "n_channels = raw_data.shape[2]\n",
    "raw_data = flatten_23(raw_data)\n",
    "if kernel_flag: # spatial kernel involved\n",
    "    kernel = make_kernel(width = width, n_channels = n_channels)\n",
    "    scale_sqrt = np.sqrt(kernel).reshape(1,len(kernel))\n",
    "num_rows = raw_data.shape[0]\n",
    "#index = permutation(num_rows)\n",
    "index = np.arange(num_rows)\n",
    "sample_data = raw_data[index[:num_nystrom]]\n",
    "other_data = raw_data[index[num_nystrom:]]\n",
    "\n",
    "\n",
    "# calculating A\n",
    "sigma = sigma*sigma \n",
    "if kernel_flag:\n",
    "    A = np.exp(-cdist(sample_data*scale_sqrt,sample_data*scale_sqrt,'sqeuclidean')/sigma).astype(np.float32)\n",
    "else: \n",
    "    A = np.exp(-cdist(sample_data,sample_data,'sqeuclidean')/sigma).astype(np.float32)\n",
    "    #A.flat[::A.shape[0]+1] = 0\n",
    "\n",
    "# calculating B\n",
    "other_points = num_rows - num_nystrom\n",
    "if kernel_flag:\n",
    "    B = np.exp(-cdist(sample_data*scale_sqrt,other_data*scale_sqrt,'sqeuclidean')/sigma).astype(np.float32)\n",
    "else: \n",
    "    B = np.exp(-cdist(sample_data,other_data,'sqeuclidean')/sigma).astype(np.float32)\n",
    "\n",
    "  \n",
    "    \n",
    "# normalize A and B\n",
    "pinv_A = pinv(A)\n",
    "B_T = B.transpose()\n",
    "d1 = np.sum(A,axis = 1) + np.sum(B,axis = 1)\n",
    "d2 = np.sum(B_T,axis = 1) + np.dot(B_T, np.dot(pinv_A, np.sum(B,axis = 1)))\n",
    "dhat = np.sqrt(1./np.concatenate((d1,d2),axis = 0))\n",
    "A = A*(np.dot(dhat[0:num_nystrom,np.newaxis],dhat[0:num_nystrom,np.newaxis].transpose()))\n",
    "B1 = np.dot(dhat[0:num_nystrom,np.newaxis], dhat[num_nystrom:num_nystrom+other_points,np.newaxis].transpose())\n",
    "B = B*B1\n",
    "\n",
    "\n",
    "# do orthogonalization and eigen-decomposition\n",
    "B_T = B.transpose()\n",
    "Asi = sqrtm(pinv(A))\n",
    "BBT = np.dot(B,B_T)\n",
    "W = np.concatenate((A,B_T), axis = 0)\n",
    "R = A+ np.dot(np.dot(Asi,BBT),Asi)\n",
    "R = (R+R.transpose())/2.\n",
    "L, U = eigh(R)\n",
    "ind = np.argsort(L)[::-1]\n",
    "U = U[:,ind]\n",
    "L = L[ind]\n",
    "W = np.dot(W,Asi)\n",
    "V = np.dot(W, U*1./np.sqrt(L))\n",
    "foo = V.copy()\n",
    "V[index,:] = foo\n",
    "V = np.real(V)\n",
    "L = 1-L"
   ]
  },
  {
   "cell_type": "code",
   "execution_count": 400,
   "metadata": {
    "collapsed": false
   },
   "outputs": [
    {
     "data": {
      "text/plain": [
       "array([  1.69919819e-01,   1.82242006e-01,   1.90810412e-01,\n",
       "         1.93058684e-01,   1.87438548e-01,   1.74152985e-01,\n",
       "         1.54734969e-01,   1.30586803e-01,   1.01943240e-01,\n",
       "         6.81378543e-02,   2.84001790e-02,  -1.76138971e-02,\n",
       "        -6.96244314e-02,  -1.26670480e-01,  -1.87042356e-01,\n",
       "        -2.48189658e-01,  -3.06676030e-01,  -3.58236581e-01,\n",
       "        -3.97955358e-01,  -4.20661360e-01,  -2.50729918e-01,\n",
       "        -5.98177649e-02,  -4.84568439e-03,  -1.16945535e-04,\n",
       "        -7.39346774e-07], dtype=float32)"
      ]
     },
     "execution_count": 400,
     "metadata": {},
     "output_type": "execute_result"
    }
   ],
   "source": [
    "V[:,1]\n"
   ]
  },
  {
   "cell_type": "code",
   "execution_count": null,
   "metadata": {
    "collapsed": true
   },
   "outputs": [],
   "source": []
  },
  {
   "cell_type": "code",
   "execution_count": null,
   "metadata": {
    "collapsed": true
   },
   "outputs": [],
   "source": []
  },
  {
   "cell_type": "code",
   "execution_count": null,
   "metadata": {
    "collapsed": true
   },
   "outputs": [],
   "source": []
  },
  {
   "cell_type": "code",
   "execution_count": null,
   "metadata": {
    "collapsed": true
   },
   "outputs": [],
   "source": []
  },
  {
   "cell_type": "code",
   "execution_count": 299,
   "metadata": {
    "collapsed": false
   },
   "outputs": [
    {
     "data": {
      "text/plain": [
       "array([[ 0.12794226,  0.27247411,  0.08412802,  0.56026274,  0.7672982 ,\n",
       "         0.17618314,  0.88540327,  0.74555895,  0.1828349 ],\n",
       "       [ 0.82577102,  0.71412198,  0.82452278,  0.92257679,  0.49820353,\n",
       "         0.84301896,  0.8047701 ,  0.92667331,  0.42358662]])"
      ]
     },
     "execution_count": 299,
     "metadata": {},
     "output_type": "execute_result"
    }
   ],
   "source": [
    "flatten_23(v)"
   ]
  },
  {
   "cell_type": "code",
   "execution_count": 249,
   "metadata": {
    "collapsed": false
   },
   "outputs": [],
   "source": [
    "def make_kernel(width = None, n_channels = None):\n",
    "    kernel = np.zeros([2*width+1,2*width+1])\n",
    "    for d in range(1,width+1):\n",
    "        value= 1. / (2*d+1.)^2 \n",
    "        for i in range(-d, d+1):\n",
    "            for j in range(-d, d+1): \n",
    "                kernel[width -i,width - j ] = kernel[ width - i,width - j ] + value\n",
    "    kernel = kernel/width\n",
    "    kernel = kernel.flatten()\n",
    "    kernel = np.array([kernel, ]*n_channels)\n",
    "    kernel = kernel.flatten()\n",
    "    return kernel"
   ]
  },
  {
   "cell_type": "code",
   "execution_count": 251,
   "metadata": {
    "collapsed": false
   },
   "outputs": [],
   "source": [
    "def make_kernel(width = None, n_channels = None):\n",
    "    kernel = np.zeros([2*width+1,2*width+1])\n",
    "    for d in range(1,width+1):\n",
    "        value= 1. / ((2*d+1.)*(2*d+1.))\n",
    "        for i in range(-d, d+1):\n",
    "            for j in range(-d, d+1): \n",
    "                kernel[width -i,width - j ] = kernel[ width - i,width - j ] + value\n",
    "    kernel = kernel/width\n",
    "    kernel = kernel.flatten()\n",
    "    kernel = np.array([kernel, ]*n_channels)\n",
    "    kernel = kernel.flatten()\n",
    "    return kernel"
   ]
  },
  {
   "cell_type": "code",
   "execution_count": 252,
   "metadata": {
    "collapsed": false
   },
   "outputs": [],
   "source": [
    "k = make_kernel(2,1)"
   ]
  },
  {
   "cell_type": "code",
   "execution_count": 253,
   "metadata": {
    "collapsed": false
   },
   "outputs": [
    {
     "data": {
      "text/plain": [
       "array([ 0.02      ,  0.02      ,  0.02      ,  0.02      ,  0.02      ,\n",
       "        0.02      ,  0.07555556,  0.07555556,  0.07555556,  0.02      ,\n",
       "        0.02      ,  0.07555556,  0.07555556,  0.07555556,  0.02      ,\n",
       "        0.02      ,  0.07555556,  0.07555556,  0.07555556,  0.02      ,\n",
       "        0.02      ,  0.02      ,  0.02      ,  0.02      ,  0.02      ])"
      ]
     },
     "execution_count": 253,
     "metadata": {},
     "output_type": "execute_result"
    }
   ],
   "source": [
    "k"
   ]
  },
  {
   "cell_type": "code",
   "execution_count": 224,
   "metadata": {
    "collapsed": false
   },
   "outputs": [
    {
     "data": {
      "text/plain": [
       "array([[ 1.,  1.,  1.,  1.,  1.],\n",
       "       [ 1.,  2.,  2.,  2.,  1.],\n",
       "       [ 1.,  2.,  2.,  2.,  1.],\n",
       "       [ 1.,  2.,  2.,  2.,  1.],\n",
       "       [ 1.,  1.,  1.,  1.,  1.]])"
      ]
     },
     "execution_count": 224,
     "metadata": {},
     "output_type": "execute_result"
    }
   ],
   "source": [
    "k[:25].reshape([5,5])"
   ]
  },
  {
   "cell_type": "code",
   "execution_count": 70,
   "metadata": {
    "collapsed": false
   },
   "outputs": [
    {
     "data": {
      "text/plain": [
       "array([[ 1.83749359,  0.31517782,  0.57730257, -1.10501861, -0.89021151,\n",
       "         0.30982067],\n",
       "       [-1.14147446, -0.42307415,  0.07050621,  0.70867843, -1.33972705,\n",
       "         1.28989635],\n",
       "       [ 1.17967366, -0.55043807, -0.70357047, -0.66262449, -0.71236815,\n",
       "        -2.64986493],\n",
       "       [-0.73828102, -0.85496308, -0.46720098,  0.28434462,  2.12362476,\n",
       "        -0.69400875]])"
      ]
     },
     "execution_count": 70,
     "metadata": {},
     "output_type": "execute_result"
    }
   ],
   "source": [
    "foo[:,:,1]"
   ]
  },
  {
   "cell_type": "code",
   "execution_count": 68,
   "metadata": {
    "collapsed": false
   },
   "outputs": [
    {
     "data": {
      "text/plain": [
       "array([ 0.97095326,  1.83749359])"
      ]
     },
     "execution_count": 68,
     "metadata": {},
     "output_type": "execute_result"
    }
   ],
   "source": [
    "np.lib.stride_tricks.as_strided(foo, shape=(2,), strides=[foo.itemsize*1])"
   ]
  },
  {
   "cell_type": "code",
   "execution_count": 63,
   "metadata": {
    "collapsed": false
   },
   "outputs": [
    {
     "data": {
      "text/plain": [
       "8"
      ]
     },
     "execution_count": 63,
     "metadata": {},
     "output_type": "execute_result"
    }
   ],
   "source": [
    "foo.itemsize"
   ]
  },
  {
   "cell_type": "code",
   "execution_count": 99,
   "metadata": {
    "collapsed": false
   },
   "outputs": [
    {
     "name": "stdout",
     "output_type": "stream",
     "text": [
      "README.md            \u001b[1m\u001b[34mdata\u001b[m\u001b[m/                demo2.ipynb          \u001b[1m\u001b[34mgraph_cluster\u001b[m\u001b[m/       test_notebook.ipynb\r\n",
      "__init__.py          \u001b[1m\u001b[34mdemo\u001b[m\u001b[m/                demo3.ipynb          image_test.ipynb     \u001b[1m\u001b[34mutil\u001b[m\u001b[m/\r\n"
     ]
    }
   ],
   "source": [
    "fname_img = os.path.join(path, 'data/train-images-idx3-ubyte')\n",
    "fname_lbl = os.path.join(path, 'data/train-labels-idx1-ubyte')\n",
    "\n",
    "flbl = open(fname_lbl, 'rb')\n",
    "# magic_nr, size = struct.unpack(\">II\", flbl.read(8))\n",
    "# lbl = array(\"b\", flbl.read())\n",
    "# flbl.close()\n",
    "\n",
    "# fimg = open(fname_img, 'rb')\n",
    "# magic_nr, size, rows, cols = struct.unpack(\">IIII\", fimg.read(16))\n",
    "# img = array(\"B\", fimg.read())\n",
    "# fimg.close()\n",
    "\n",
    "# ind = [ k for k in xrange(size) if lbl[k] in digits ]\n",
    "# images =  matrix(0, (len(ind), rows*cols))\n",
    "# labels = matrix(0, (len(ind), 1))\n",
    "# for i in xrange(len(ind)):\n",
    "#     images[i, :] = img[ ind[i]*rows*cols : (ind[i]+1)*rows*cols ]\n",
    "#     labels[i] = lbl[ind[i]]\n",
    "\n",
    "# return images, labels"
   ]
  }
 ],
 "metadata": {
  "kernelspec": {
   "display_name": "Python 2",
   "language": "python",
   "name": "python2"
  },
  "language_info": {
   "codemirror_mode": {
    "name": "ipython",
    "version": 2
   },
   "file_extension": ".py",
   "mimetype": "text/x-python",
   "name": "python",
   "nbconvert_exporter": "python",
   "pygments_lexer": "ipython2",
   "version": "2.7.10"
  }
 },
 "nbformat": 4,
 "nbformat_minor": 0
}
